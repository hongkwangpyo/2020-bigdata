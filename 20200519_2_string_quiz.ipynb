{
 "cells": [
  {
   "cell_type": "code",
   "execution_count": 18,
   "metadata": {},
   "outputs": [
    {
     "name": "stdout",
     "output_type": "stream",
     "text": [
      "a\n",
      "right\n",
      "  aeta a o ih \n",
      "  A story that was not right  \n",
      "  thgir ton saw taht elat A  \n",
      "5\n",
      "True\n",
      "29\n",
      "  A TALE THAT WAS NOT RIGHT  \n",
      "  a tale that was not right  \n",
      "A tale that was not right\n"
     ]
    }
   ],
   "source": [
    "text = \"  A tale that was not right  \"\n",
    "\n",
    "# 'a'가 출력\n",
    "print(text[text.find('a')])\n",
    "\n",
    "#  'right'가 출력\n",
    "temp = 'right'\n",
    "print(text[text.find(temp) : text.find(temp)+len(temp)])\n",
    "\n",
    "# 홀수번 인덱스 요소만 출력\n",
    "print(text[1::2])\n",
    "\n",
    "# 'tale'을 'story'로 변경\n",
    "print(text.replace('tale', 'story'))\n",
    "             \n",
    "# text을 역순으로 출력\n",
    "print(text[::-1])\n",
    "\n",
    "# 't'의 갯수를 출력'\n",
    "print(text.count('t'))\n",
    "\n",
    "#  'that'이라는 단어가 text에 포함되어 있는지 확인\n",
    "print('that' in text)\n",
    "\n",
    "#  text의 길이를 출력\n",
    "print(len(text))\n",
    "\n",
    "# 위의 문장을 대문자로 변환하시오\n",
    "print(text.upper())\n",
    "\n",
    "# 위의 문장을 소문자로 변환하시오\n",
    "print(text.lower())\n",
    "\n",
    "# 위의 문장의 좌우공백을 제거하시오\n",
    "print(text.strip())\n"
   ]
  },
  {
   "cell_type": "code",
   "execution_count": 19,
   "metadata": {},
   "outputs": [
    {
     "name": "stdout",
     "output_type": "stream",
     "text": [
      "'여러분, 파이팅!파이팅!파이팅! ~'\n"
     ]
    }
   ],
   "source": [
    "msg1 = '여러분'\n",
    "msg2 = '파이팅!'\n",
    "\n",
    "# msg1과 msg2를 활용하여 다음과 같이 출력되도록 하시오\n",
    "# => '여러분, 파이팅!파이팅!파이팅! ~'\n",
    "print(\"'\" + msg1 + ', ' + msg2 * 3 + \" ~'\")"
   ]
  },
  {
   "cell_type": "code",
   "execution_count": 20,
   "metadata": {},
   "outputs": [
    {
     "name": "stdout",
     "output_type": "stream",
     "text": [
      "임의의 문장을 입력하세요:\n",
      "\"당신이 입력한 문장의 길이는 0입니다.\"\n"
     ]
    }
   ],
   "source": [
    "# 임의의 문장을 입력받은 후, \"당신이 입력한 문장의 길이는 __ 입니다.\"라고 출력되도록 하시오..\n",
    "input_data = input('임의의 문장을 입력하세요:')\n",
    "print(\"\\\"당신이 입력한 문장의 길이는 \" + str(len(input_data)) + \"입니다.\\\"\")"
   ]
  },
  {
   "cell_type": "code",
   "execution_count": 21,
   "metadata": {},
   "outputs": [
    {
     "name": "stdout",
     "output_type": "stream",
     "text": [
      "임의의 문장을 입력하세요:\n",
      "\"당신이 입력한 문장은 \"파이썬\"이라는 단어를 포함하고 있지 않습니다.\"\n"
     ]
    }
   ],
   "source": [
    "# 임의의 문장을 입력받은 후, \"당신이 입력한 문장은 \"파이썬\"이라는 단어를 포함하고 있습니다 or \n",
    "# 포함하고 있지 않습니다.\"라고 출력되도록 하시오. \n",
    "input_data = input('임의의 문장을 입력하세요:')\n",
    "if(\"파이썬\" in input_data):\n",
    "    print('\"당신이 입력한 문장은 \"파이썬\"이라는 단어를 포함하고 있습니다.\"')\n",
    "else:\n",
    "    print('\"당신이 입력한 문장은 \"파이썬\"이라는 단어를 포함하고 있지 않습니다.\"')"
   ]
  },
  {
   "cell_type": "code",
   "execution_count": 22,
   "metadata": {},
   "outputs": [
    {
     "name": "stdout",
     "output_type": "stream",
     "text": [
      "이름:\n",
      "생년월일:\n",
      "나이:\n",
      "\"당신의 이름은 이고, 월 달 출생이고, 살입니다.\"\n"
     ]
    }
   ],
   "source": [
    "# 임의의 사람에게 이름, 생년월일, 나이를 입력받은 후,\n",
    "#  => \" 당신의 이름은 ___이고, ___월 달 출생이고, ___살입니다\" 라고 출력되도록 하시오\n",
    "# 단, format()을 이용해서 코딩하시오.\n",
    "input_name = input(\"이름:\")\n",
    "input_date = input(\"생년월일:\")\n",
    "input_age = input(\"나이:\")\n",
    "input_month = input_date[2:4]\n",
    "print('\"당신의 이름은 {name}이고, {month}월 달 출생이고, {age}살입니다.\"'.format(name = input_name, month = input_month, age = input_age))"
   ]
  },
  {
   "cell_type": "code",
   "execution_count": 23,
   "metadata": {},
   "outputs": [
    {
     "name": "stdout",
     "output_type": "stream",
     "text": [
      "domain : www.naver.com\n",
      "name:홍길동\n",
      "age:17\n",
      "sex:남자\n",
      "nation:대한민국\n"
     ]
    }
   ],
   "source": [
    "url = \"http://www.naver.com/news/today=0160831\"\n",
    "log = 'name:홍길동 age:17 sex:남자 nation:대한민국'\n",
    "\n",
    "# 출력\n",
    "# domain : www.naver.com\n",
    "# name : 홍길동\n",
    "# age : 17\n",
    "# sex : 남자\n",
    "# nation : 대한민국\n",
    "\n",
    "url_div = url.split(\"/\")\n",
    "log_div = log.split(\" \")\n",
    "\n",
    "print('''domain : {domain}\n",
    "{name}\n",
    "{age}\n",
    "{sex}\n",
    "{nation}''' . format(domain = url_div[2], name = log_div[0], age = log_div[1], sex = log_div[2], nation = log_div[3]))"
   ]
  },
  {
   "cell_type": "code",
   "execution_count": null,
   "metadata": {},
   "outputs": [],
   "source": []
  }
 ],
 "metadata": {
  "kernelspec": {
   "display_name": "Python 3",
   "language": "python",
   "name": "python3"
  },
  "language_info": {
   "codemirror_mode": {
    "name": "ipython",
    "version": 3
   },
   "file_extension": ".py",
   "mimetype": "text/x-python",
   "name": "python",
   "nbconvert_exporter": "python",
   "pygments_lexer": "ipython3",
   "version": "3.7.6"
  }
 },
 "nbformat": 4,
 "nbformat_minor": 4
}
