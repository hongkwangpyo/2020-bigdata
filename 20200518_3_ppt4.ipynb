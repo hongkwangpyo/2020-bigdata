{
 "cells": [
  {
   "cell_type": "code",
   "execution_count": 1,
   "metadata": {},
   "outputs": [
    {
     "name": "stdout",
     "output_type": "stream",
     "text": [
      "tho\n"
     ]
    }
   ],
   "source": [
    "lang = 'python programming'\n",
    "print(lang[2:-13])"
   ]
  },
  {
   "cell_type": "code",
   "execution_count": 7,
   "metadata": {},
   "outputs": [
    {
     "name": "stdout",
     "output_type": "stream",
     "text": [
      "helloworldhelloworldhelloworld\n"
     ]
    }
   ],
   "source": [
    "a = 'hello'\n",
    "b = 'world'\n",
    "c = a + b\n",
    "print(c*3)"
   ]
  },
  {
   "cell_type": "code",
   "execution_count": 8,
   "metadata": {},
   "outputs": [
    {
     "data": {
      "text/plain": [
       "7"
      ]
     },
     "execution_count": 8,
     "metadata": {},
     "output_type": "execute_result"
    }
   ],
   "source": [
    "state = 'mississippi'\n",
    "state.find('i', 5) "
   ]
  },
  {
   "cell_type": "code",
   "execution_count": 15,
   "metadata": {},
   "outputs": [
    {
     "name": "stdout",
     "output_type": "stream",
     "text": [
      "hello my name is \n",
      "aaa\n"
     ]
    }
   ],
   "source": [
    "s = \"hello my \\\n",
    "name is \\naaa\" # \\n 엔터\n",
    "print(s)"
   ]
  },
  {
   "cell_type": "code",
   "execution_count": 16,
   "metadata": {},
   "outputs": [
    {
     "name": "stdout",
     "output_type": "stream",
     "text": [
      "hello my\n",
      "name is aaa\n"
     ]
    }
   ],
   "source": [
    "s = \"\"\"hello my\n",
    "name is aaa\"\"\" #여러줄 출력 \\n안써도됨\n",
    "print(s)"
   ]
  },
  {
   "cell_type": "code",
   "execution_count": 29,
   "metadata": {},
   "outputs": [
    {
     "name": "stdout",
     "output_type": "stream",
     "text": [
      "o\n",
      "prg\n",
      "ing\n"
     ]
    }
   ],
   "source": [
    "lang = 'python prgramming'\n",
    "# o출력\n",
    "print(lang[4])\n",
    "# prg출력\n",
    "print(lang[7:10])\n",
    "#ing\n",
    "print(lang[-3:])"
   ]
  },
  {
   "cell_type": "code",
   "execution_count": 57,
   "metadata": {},
   "outputs": [
    {
     "name": "stdout",
     "output_type": "stream",
     "text": [
      "1. hello python\n",
      "2. hellohellohello\n",
      "3. True\n",
      "4. PYTHON\n",
      "5. hello\n",
      "6. 2\n",
      "7. 2\n",
      "8. gmail.com\n",
      " 이름:sldk\n",
      "9.\"안녕하세요 sldk씨!!\"\n"
     ]
    }
   ],
   "source": [
    "lang = 'python programming'\n",
    "a = 'hello'\n",
    "b = 'python'\n",
    "\n",
    "print(\"1.\", a + \" \" + b)\n",
    "\n",
    "print(\"2.\", a * 3)\n",
    "\n",
    "print(\"3.\", 'pro' in lang)\n",
    "\n",
    "print(\"4.\", b.upper())\n",
    "\n",
    "a = a.upper()\n",
    "print(\"5.\", a.lower())\n",
    "\n",
    "print(\"6.\", lang.count('o'))\n",
    "\n",
    "print(\"7.\", lang.find('t'))\n",
    "\n",
    "url = 'sky77@gmail.com'\n",
    "print(\"8.\", url.split('@')[1])\n",
    "\n",
    "input_name = input(\" 이름:\")\n",
    "\n",
    "print('9.\"안녕하세요 {}씨!!\"'.format(input_name))"
   ]
  },
  {
   "cell_type": "code",
   "execution_count": null,
   "metadata": {},
   "outputs": [],
   "source": []
  },
  {
   "cell_type": "code",
   "execution_count": null,
   "metadata": {},
   "outputs": [],
   "source": []
  },
  {
   "cell_type": "code",
   "execution_count": null,
   "metadata": {},
   "outputs": [],
   "source": []
  },
  {
   "cell_type": "code",
   "execution_count": null,
   "metadata": {},
   "outputs": [],
   "source": []
  },
  {
   "cell_type": "code",
   "execution_count": null,
   "metadata": {},
   "outputs": [],
   "source": []
  }
 ],
 "metadata": {
  "kernelspec": {
   "display_name": "Python 3",
   "language": "python",
   "name": "python3"
  },
  "language_info": {
   "codemirror_mode": {
    "name": "ipython",
    "version": 3
   },
   "file_extension": ".py",
   "mimetype": "text/x-python",
   "name": "python",
   "nbconvert_exporter": "python",
   "pygments_lexer": "ipython3",
   "version": "3.7.6"
  }
 },
 "nbformat": 4,
 "nbformat_minor": 4
}
