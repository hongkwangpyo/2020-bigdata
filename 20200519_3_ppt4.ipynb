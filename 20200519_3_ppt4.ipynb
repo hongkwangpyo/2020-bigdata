{
 "cells": [
  {
   "cell_type": "code",
   "execution_count": 3,
   "metadata": {},
   "outputs": [
    {
     "name": "stdout",
     "output_type": "stream",
     "text": [
      "<class 'list'>\n",
      "90\n",
      "92\n",
      "[90, 75, 88]\n"
     ]
    }
   ],
   "source": [
    "score = [80, 90, 75, 88, 92]\n",
    "\n",
    "print(type(score))\n",
    "print(score[1])\n",
    "print(score[-1])\n",
    "print(score[1:4])"
   ]
  },
  {
   "cell_type": "code",
   "execution_count": 11,
   "metadata": {},
   "outputs": [
    {
     "name": "stdout",
     "output_type": "stream",
     "text": [
      "[1, 2, 3, 4, 5, 7, 5, 6, 4, 3]\n",
      "[1, 2, 3, 4, 5, 7, 5, 6, 4, 3]\n",
      "False\n",
      "7\n",
      "mean: 4.0\n",
      "[3, 4, 5, 6, 7]\n",
      "[7, 6, 5, 4, 3]\n"
     ]
    }
   ],
   "source": [
    "l1 = [1,2,3,4,5]\n",
    "l2 = [7,5,6,4,3]\n",
    "\n",
    "print(l1 + l2)\n",
    "l1.extend(l2)\n",
    "print(l1)\n",
    "print(90 in l1)\n",
    "print(max(l1))\n",
    "print(\"mean:\",sum(l1)/len(l1))\n",
    "print(sorted(l2))\n",
    "print(sorted(l2, reverse=True))"
   ]
  },
  {
   "cell_type": "code",
   "execution_count": 15,
   "metadata": {},
   "outputs": [
    {
     "name": "stdout",
     "output_type": "stream",
     "text": [
      "[80, 90, 75, 88, 92, 100]\n",
      "2\n",
      "[100, 92, 88, 75, 90, 80]\n"
     ]
    }
   ],
   "source": [
    "score = [80, 90, 75, 88, 92]\n",
    "score.append(100)\n",
    "print(score)\n",
    "print(score.index(75))\n",
    "score.reverse()\n",
    "print(score)"
   ]
  },
  {
   "cell_type": "code",
   "execution_count": null,
   "metadata": {},
   "outputs": [],
   "source": []
  }
 ],
 "metadata": {
  "kernelspec": {
   "display_name": "Python 3",
   "language": "python",
   "name": "python3"
  },
  "language_info": {
   "codemirror_mode": {
    "name": "ipython",
    "version": 3
   },
   "file_extension": ".py",
   "mimetype": "text/x-python",
   "name": "python",
   "nbconvert_exporter": "python",
   "pygments_lexer": "ipython3",
   "version": "3.7.6"
  }
 },
 "nbformat": 4,
 "nbformat_minor": 4
}
