{
 "cells": [
  {
   "cell_type": "code",
   "execution_count": 23,
   "metadata": {},
   "outputs": [
    {
     "name": "stdout",
     "output_type": "stream",
     "text": [
      "2\n",
      "b\n",
      "5\n",
      "[5, 6]\n",
      "나\n",
      "[2, 'b', [4, 5, 6], '나']\n",
      "[1, 10, 'a', 'b', 'c', [4, 5, 6], '가', '나']\n",
      "[1, 10, 'a', 'b', 'c', [4, 5, 6], '가', '나', '다']\n",
      "[1, 10, 'a', 100, 'b', 'c', [4, 5, 6], '가', '나', '다']\n",
      "10\n",
      "[1, 10, 100, 'b', 'c', [4, 5, 6], '가', '나', '다']\n",
      "[1, 10, 100, 'b', [4, 5, 6], '가', '나', '다']\n",
      "3\n",
      "1\n"
     ]
    }
   ],
   "source": [
    "list_data = [1,2,'a','b','c',[4,5,6],'가','나']\n",
    "\n",
    "# 2를 출력\n",
    "print(list_data[1])\n",
    "\n",
    "# 'b'를 출력\n",
    "print(list_data[3])\n",
    "\n",
    "# 5를 출력\n",
    "print(list_data[5][1])\n",
    "\n",
    "# [5,6]을 출력\n",
    "print(list_data[5][1:])\n",
    "\n",
    "# 맨 마지막 원소 출력\n",
    "print(list_data[-1])\n",
    "\n",
    "# 홀수 인덱스 출력\n",
    "print(list_data[1::2])\n",
    "\n",
    "# 2를 10으로 수정\n",
    "list_data[1] = 10\n",
    "print(list_data)\n",
    "\n",
    "# 마지막 위치에 '다'를 추가\n",
    "list_data.append('다')\n",
    "print(list_data)\n",
    "\n",
    "# 3 index 위치에 100을 삽입\n",
    "list_data.insert(3,100)\n",
    "print(list_data)\n",
    "\n",
    "# 리스트의 길이를 출력\n",
    "print(len(list_data))\n",
    "\n",
    "# 'a'를 삭제\n",
    "list_data.remove('a')\n",
    "print(list_data)\n",
    "\n",
    "# 인덱스 4의 값을 삭제\n",
    "list_data.remove(list_data[4])\n",
    "print(list_data)\n",
    "\n",
    "# 'b'는 몇번째 인덱스에 있는가\n",
    "print(list_data.index('b'))\n",
    "\n",
    "# '나'라는 요소는 몇 개가 있는가\n",
    "print(list_data.count('나'))\n"
   ]
  },
  {
   "cell_type": "markdown",
   "metadata": {},
   "source": [
    "1. sol에서 '수성','금성','지구'를 출력하세요\n",
    "2. sol에서 '지구'의 인덱스를 출력하세요\n",
    "3. sol에서 '화성'을 '해왕성'으로 수정하세요\n",
    "4. sol에서 '수성' 자리에 '명왕성'을 삽입하세요\n",
    "5. sol에서 맨 끝에 '토성'을 추가하세요\n",
    "6. sol에서 3번 인덱스 값을 삭제하세요.\n",
    "7. sol에서 '지구'을 제거하세요\n",
    "8. sol에서 오름차순 정렬하세요\n",
    "9. sol에서 내림차순 정렬하세요.\n",
    "10.sol에서 '만리장성'이 있는지 확인하세요.\n",
    "11.sol에서  길이를 리턴하세요.\n",
    "12. sol과 sol1을 연결하세요.\n",
    "13. sol에서  모든 원소를 삭제하세요.\n",
    "14. sol에서 sol이라는 list를 삭제하세요"
   ]
  },
  {
   "cell_type": "code",
   "execution_count": 50,
   "metadata": {},
   "outputs": [
    {
     "name": "stdout",
     "output_type": "stream",
     "text": [
      "['수성', '금성', '지구']\n",
      "3\n",
      "['태양', '수성', '금성', '지구', '해왕성', '목성', '지구']\n",
      "['태양', '명왕성', '수성', '금성', '지구', '해왕성', '목성', '지구']\n",
      "['태양', '명왕성', '수성', '금성', '지구', '해왕성', '목성', '지구', '토성']\n",
      "['태양', '명왕성', '수성', '지구', '해왕성', '목성', '지구', '토성']\n",
      "['태양', '명왕성', '수성', '해왕성', '목성', '지구', '토성']\n",
      "['명왕성', '목성', '수성', '지구', '태양', '토성', '해왕성']\n",
      "['해왕성', '토성', '태양', '지구', '수성', '목성', '명왕성']\n",
      "False\n",
      "7\n",
      "['해왕성', '토성', '태양', '지구', '수성', '목성', '명왕성', '토성', '천왕성', '해왕성']\n",
      "[]\n"
     ]
    }
   ],
   "source": [
    "sol = ['태양','수성','금성','지구','화성','목성','지구']\n",
    "sol1 = ['토성','천왕성','해왕성']\n",
    "\n",
    "print(sol[1:4])\n",
    "print(sol.index('지구'))\n",
    "\n",
    "sol[sol.index('화성')] = '해왕성'\n",
    "print(sol)\n",
    "\n",
    "sol.insert(sol.index('수성'), '명왕성')\n",
    "print(sol)\n",
    "\n",
    "sol.append('토성')\n",
    "print(sol)\n",
    "\n",
    "sol.remove(sol[3])\n",
    "print(sol)\n",
    "\n",
    "sol.remove('지구')\n",
    "print(sol)\n",
    "\n",
    "sol.sort() # sorted(sol) 원본 변경없음 sol.sort는 원본을 변경\n",
    "print(sol)\n",
    "\n",
    "sol.sort(reverse = True)\n",
    "print(sol)\n",
    "\n",
    "print('만리장성' in sol)\n",
    "\n",
    "print(len(sol))\n",
    "\n",
    "sol.extend(sol1)\n",
    "print(sol)\n",
    "\n",
    "sol.clear()\n",
    "print(sol)\n",
    "\n",
    "del sol"
   ]
  },
  {
   "cell_type": "code",
   "execution_count": null,
   "metadata": {},
   "outputs": [],
   "source": []
  },
  {
   "cell_type": "code",
   "execution_count": null,
   "metadata": {},
   "outputs": [],
   "source": []
  }
 ],
 "metadata": {
  "kernelspec": {
   "display_name": "Python 3",
   "language": "python",
   "name": "python3"
  },
  "language_info": {
   "codemirror_mode": {
    "name": "ipython",
    "version": 3
   },
   "file_extension": ".py",
   "mimetype": "text/x-python",
   "name": "python",
   "nbconvert_exporter": "python",
   "pygments_lexer": "ipython3",
   "version": "3.7.6"
  }
 },
 "nbformat": 4,
 "nbformat_minor": 4
}
